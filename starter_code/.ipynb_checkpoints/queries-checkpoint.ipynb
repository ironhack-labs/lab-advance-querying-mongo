{
 "cells": [
  {
   "cell_type": "markdown",
   "metadata": {},
   "source": [
    "![Ironhack Logo](https://i.imgur.com/1QgrNNw.png)"
   ]
  },
  {
   "cell_type": "code",
   "execution_count": 1,
   "metadata": {},
   "outputs": [],
   "source": [
    "from pymongo import MongoClient\n",
    "client = MongoClient ('localhost', 27017)\n",
    "db = client['companies']"
   ]
  },
  {
   "cell_type": "markdown",
   "metadata": {},
   "source": [
    "# Answers\n",
    "### 1. All the companies that it's name match 'Babelgum'. Retrieve only their `name` field."
   ]
  },
  {
   "cell_type": "code",
   "execution_count": 2,
   "metadata": {},
   "outputs": [
    {
     "name": "stdout",
     "output_type": "stream",
     "text": [
      "Babelgum\n"
     ]
    }
   ],
   "source": [
    "data = {'name':'Babelgum'}\n",
    "print(data['name'])"
   ]
  },
  {
   "cell_type": "markdown",
   "metadata": {},
   "source": [
    "### 2. All the companies that have more than 5000 employees. Limit the search to 20 companies and sort them by **number of employees**."
   ]
  },
  {
   "cell_type": "code",
   "execution_count": 69,
   "metadata": {},
   "outputs": [
    {
     "name": "stdout",
     "output_type": "stream",
     "text": [
      "Nintendo 5080\n",
      "Hexaware Technologies 5200\n",
      "Facebook 5299\n",
      "OpenText 5300\n",
      "LSI 5400\n",
      "CPM Braxis 5400\n",
      "Microchip Technologies 5500\n",
      "Mediaset 5729\n",
      "Mindray Medical International 5763\n",
      "Baidu 6000\n",
      "Dentsu 6000\n",
      "Tata Communications 6000\n",
      "Atmel 6000\n",
      "Acxiom 6200\n",
      "Acxiom 6200\n",
      "SRA International 6400\n",
      "Moody's 6800\n",
      "ManTech 7000\n",
      "Adobe Systems 7173\n",
      "Broadcom 7400\n"
     ]
    }
   ],
   "source": [
    "cursor = db.companies.find({\"number_of_employees\": {\"$gt\":5000}}).limit(20).sort(\"number_of_employees\")\n",
    "for i in cursor:\n",
    "    print(i['name'], i['number_of_employees'])"
   ]
  },
  {
   "cell_type": "markdown",
   "metadata": {},
   "source": [
    "### 3. All the companies founded between 2000 and 2005, both years included. Retrieve only the `name` and `founded_year` fileds."
   ]
  },
  {
   "cell_type": "code",
   "execution_count": 70,
   "metadata": {},
   "outputs": [
    {
     "name": "stdout",
     "output_type": "stream",
     "text": [
      "Zoho 2005\n",
      "Wetpaint 2005\n",
      "Omnidrive 2005\n",
      "Digg 2004\n",
      "Gizmoz 2003\n",
      "StumbleUpon 2002\n",
      "Helio 2005\n",
      "Facebook 2004\n",
      "Plaxo 2002\n",
      "Technorati 2002\n"
     ]
    }
   ],
   "source": [
    "founded = db.companies.find({'$and': [{'founded_year': {'$gte':2000} }, {'founded_year': {'$lte':2005} }]}).limit(10)\n",
    "\n",
    "for i in founded:\n",
    "    print(i['name'], i['founded_year'])\n"
   ]
  },
  {
   "cell_type": "markdown",
   "metadata": {},
   "source": [
    "### 4. All the companies that had a Valuation Amount of more than 100.000.000 and have been founded before 2010. Retrieve only the `name` and `ipo` fields."
   ]
  },
  {
   "cell_type": "code",
   "execution_count": 71,
   "metadata": {},
   "outputs": [
    {
     "name": "stdout",
     "output_type": "stream",
     "text": [
      "Twitter {'valuation_amount': 18100000000, 'valuation_currency_code': 'USD', 'pub_year': 2013, 'pub_month': 11, 'pub_day': 7, 'stock_symbol': 'NYSE:TWTR'}\n",
      "Facebook {'valuation_amount': 104000000000, 'valuation_currency_code': 'USD', 'pub_year': 2012, 'pub_month': 5, 'pub_day': 18, 'stock_symbol': 'NASDAQ:FB'}\n",
      "Yelp {'valuation_amount': 1300000000, 'valuation_currency_code': 'USD', 'pub_year': 2012, 'pub_month': 3, 'pub_day': 2, 'stock_symbol': 'NYSE:YELP'}\n",
      "LinkedIn {'valuation_amount': 9310000000, 'valuation_currency_code': 'USD', 'pub_year': 2011, 'pub_month': 7, 'pub_day': 20, 'stock_symbol': 'NYSE:LNKD'}\n",
      "Brightcove {'valuation_amount': 290000000, 'valuation_currency_code': 'USD', 'pub_year': 2012, 'pub_month': 2, 'pub_day': 17, 'stock_symbol': 'NASDAQ:BCOV'}\n",
      "Amazon {'valuation_amount': 100000000000, 'valuation_currency_code': 'USD', 'pub_year': 1997, 'pub_month': 5, 'pub_day': None, 'stock_symbol': 'NASDAQ:AMZN'}\n",
      "KIT digital {'valuation_amount': 235000000, 'valuation_currency_code': 'USD', 'pub_year': 2010, 'pub_month': 7, 'pub_day': 27, 'stock_symbol': 'KITD'}\n",
      "Nielsen {'valuation_amount': 1600000000, 'valuation_currency_code': 'USD', 'pub_year': 2011, 'pub_month': 1, 'pub_day': 26, 'stock_symbol': 'NYSE:NLSN'}\n",
      "OpenTable {'valuation_amount': 1050000000, 'valuation_currency_code': 'USD', 'pub_year': 2009, 'pub_month': 5, 'pub_day': 21, 'stock_symbol': 'NASDAQ:OPEN'}\n",
      "ChannelAdvisor {'valuation_amount': 287000000, 'valuation_currency_code': 'USD', 'pub_year': 2013, 'pub_month': 5, 'pub_day': 23, 'stock_symbol': 'NYSE:ECOM'}\n"
     ]
    }
   ],
   "source": [
    "ipo = db.companies.find({'$and': [{'founded_year': {'$lt':2010} }, {'ipo.valuation_amount': {'$gt':100000000} }]}).limit(10)\n",
    "\n",
    "for i in ipo:\n",
    "    print(i['name'], i['ipo'])"
   ]
  },
  {
   "cell_type": "markdown",
   "metadata": {},
   "source": [
    "### 5. All the companies that have less than 1000 employees and have been founded before 2005. Order them by the number of employees and limit the search to 10 companies."
   ]
  },
  {
   "cell_type": "code",
   "execution_count": 66,
   "metadata": {},
   "outputs": [
    {
     "name": "stdout",
     "output_type": "stream",
     "text": [
      "Infinera Corporation 974\n",
      "NorthPoint Communications Group 948\n",
      "888 Holdings 931\n",
      "Forrester Research 903\n",
      "SonicWALL 900\n",
      "Webmetrics 900\n",
      "Cornerstone OnDemand 881\n",
      "Yelp 800\n",
      "ZoomInfo 800\n",
      "MySpace 800\n"
     ]
    }
   ],
   "source": [
    "f = db.companies.find({'$and': [{'number_of_employees': {'$lt':1000} }, {'founded_year': {'$lt':2005} }]}).limit(10).sort(\"number_of_employees\", -1)\n",
    "\n",
    "for i in f:\n",
    "    print(i['name'], i['number_of_employees'])"
   ]
  },
  {
   "cell_type": "markdown",
   "metadata": {},
   "source": [
    "### 6. All the companies that don't include the `partners` field."
   ]
  },
  {
   "cell_type": "code",
   "execution_count": 72,
   "metadata": {},
   "outputs": [
    {
     "ename": "KeyError",
     "evalue": "'name'",
     "output_type": "error",
     "traceback": [
      "\u001b[0;31m---------------------------------------------------------------------------\u001b[0m",
      "\u001b[0;31mKeyError\u001b[0m                                  Traceback (most recent call last)",
      "\u001b[0;32m<ipython-input-72-07c89cec4315>\u001b[0m in \u001b[0;36m<module>\u001b[0;34m\u001b[0m\n\u001b[1;32m      2\u001b[0m \u001b[0;34m\u001b[0m\u001b[0m\n\u001b[1;32m      3\u001b[0m \u001b[0;32mfor\u001b[0m \u001b[0mi\u001b[0m \u001b[0;32min\u001b[0m \u001b[0mg\u001b[0m\u001b[0;34m:\u001b[0m\u001b[0;34m\u001b[0m\u001b[0;34m\u001b[0m\u001b[0m\n\u001b[0;32m----> 4\u001b[0;31m     \u001b[0mprint\u001b[0m\u001b[0;34m(\u001b[0m\u001b[0mi\u001b[0m\u001b[0;34m[\u001b[0m\u001b[0;34m'name'\u001b[0m\u001b[0;34m]\u001b[0m\u001b[0;34m)\u001b[0m\u001b[0;34m\u001b[0m\u001b[0;34m\u001b[0m\u001b[0m\n\u001b[0m",
      "\u001b[0;31mKeyError\u001b[0m: 'name'"
     ]
    }
   ],
   "source": [
    "g = db.companies.find({'partners': {'$exists': False}}).limit(10)\n",
    "\n",
    "for i in g:\n",
    "    print(i['name'])"
   ]
  },
  {
   "cell_type": "markdown",
   "metadata": {},
   "source": [
    "### 7. All the companies that have a null type of value on the `category_code` field."
   ]
  },
  {
   "cell_type": "code",
   "execution_count": 73,
   "metadata": {},
   "outputs": [
    {
     "name": "stdout",
     "output_type": "stream",
     "text": [
      "Collective\n",
      "Snimmer\n",
      "KoolIM\n",
      "Level9 Media\n",
      "VidKing\n",
      "Drigg\n",
      "SpaceTime\n",
      "MMDAYS\n",
      "Touch Clarity\n",
      "Inside Group\n"
     ]
    }
   ],
   "source": [
    "h = db.companies.find({'category_code': None }).limit(10)\n",
    "\n",
    "for i in h:\n",
    "    print(i['name'])"
   ]
  },
  {
   "cell_type": "markdown",
   "metadata": {},
   "source": [
    "### 8. All the companies that have at least 100 employees but less than 1000. Retrieve only the `name` and `number of employees` fields."
   ]
  },
  {
   "cell_type": "code",
   "execution_count": 74,
   "metadata": {},
   "outputs": [
    {
     "name": "stdout",
     "output_type": "stream",
     "text": [
      "AdventNet 600\n",
      "AddThis 120\n",
      "OpenX 305\n",
      "LifeLock 644\n",
      "Jajah 110\n",
      "Livestream 120\n",
      "Ustream 250\n",
      "iContact 300\n",
      "Yelp 800\n",
      "Dailymotion 120\n"
     ]
    }
   ],
   "source": [
    "j = db.companies.find({'$and': [{'number_of_employees': {'$gte':100} }, {'number_of_employees': {'$lt':1000} }]}).limit(10)\n",
    "\n",
    "for i in j:\n",
    "    print(i['name'], i['number_of_employees'])"
   ]
  },
  {
   "cell_type": "markdown",
   "metadata": {},
   "source": [
    "### 9. Order all the companies by their IPO price descendently."
   ]
  },
  {
   "cell_type": "code",
   "execution_count": 75,
   "metadata": {},
   "outputs": [
    {
     "name": "stdout",
     "output_type": "stream",
     "text": [
      "GREE\n",
      "Facebook\n",
      "Amazon\n",
      "Twitter\n",
      "Groupon\n",
      "Tencent\n",
      "Western Digital\n",
      "LinkedIn\n",
      "BMC Software\n",
      "Rackspace\n"
     ]
    }
   ],
   "source": [
    "k = db.companies.find({'ipo': {'$exists': True}}).limit(20).sort(\"ipo.valuation_amount\", -1).limit(10)\n",
    "\n",
    "for i in k:\n",
    "    print(i['name'])"
   ]
  },
  {
   "cell_type": "markdown",
   "metadata": {},
   "source": [
    "### 10. Retrieve the 10 companies with more employees, order by the `number of employees`"
   ]
  },
  {
   "cell_type": "code",
   "execution_count": 76,
   "metadata": {},
   "outputs": [
    {
     "name": "stdout",
     "output_type": "stream",
     "text": [
      "Siemens 405000\n",
      "IBM 388000\n",
      "Toyota 320000\n",
      "PayPal 300000\n",
      "Nippon Telegraph and Telephone Corporation 227000\n",
      "Samsung Electronics 221726\n",
      "Accenture 205000\n",
      "Tata Consultancy Services 200300\n",
      "Flextronics International 200000\n",
      "Safeway 186000\n"
     ]
    }
   ],
   "source": [
    "l = db.companies.find({'number_of_employees': {'$exists': True}}).limit(10).sort(\"number_of_employees\", -1).limit(10)\n",
    "\n",
    "for i in l:\n",
    "    print(i['name'], i['number_of_employees'])"
   ]
  },
  {
   "cell_type": "markdown",
   "metadata": {},
   "source": [
    "### 11. All the companies founded on the second semester of the year. Limit your search to 1000 companies."
   ]
  },
  {
   "cell_type": "code",
   "execution_count": 77,
   "metadata": {},
   "outputs": [
    {
     "name": "stdout",
     "output_type": "stream",
     "text": [
      "Zoho 10\n",
      "Wetpaint 10\n",
      "Omnidrive 10\n",
      "Digg 10\n",
      "Joost 10\n",
      "Plaxo 10\n",
      "eBay 10\n",
      "Powerset 10\n",
      "Kyte 10\n",
      "Thoof 10\n"
     ]
    }
   ],
   "source": [
    "#lo limito a 10 porque 1000 quizás son muchos\n",
    "\n",
    "m = db.companies.find({'$and': [{'founded_month': {'$gte':7} }, {'founded_month': {'$lte':12} }]}).limit(10)\n",
    "\n",
    "for i in m:\n",
    "    print(i['name'], e['founded_month'])\n"
   ]
  },
  {
   "cell_type": "markdown",
   "metadata": {},
   "source": [
    "### 12. All the companies that have been 'deadpooled' after the third year."
   ]
  },
  {
   "cell_type": "code",
   "execution_count": null,
   "metadata": {},
   "outputs": [],
   "source": []
  },
  {
   "cell_type": "markdown",
   "metadata": {},
   "source": [
    "### 13. All the companies founded before 2000 that have and acquisition amount of more than 10.000.000"
   ]
  },
  {
   "cell_type": "code",
   "execution_count": 33,
   "metadata": {},
   "outputs": [
    {
     "name": "stdout",
     "output_type": "stream",
     "text": [
      "Postini\n",
      "SideStep\n",
      "Recipezaar\n",
      "PayPal\n",
      "Snapfish\n",
      "Neopets\n",
      "Sun Microsystems\n",
      "Zappos\n",
      "Alibaba\n",
      "Lastminute\n",
      "Sabre\n",
      "Sportsline\n",
      "Webshots\n",
      "MIVA\n",
      "Digitas\n",
      "iVillage\n",
      "PriceGrabber\n",
      "LinkShare\n",
      "Kaboose\n",
      "Fastclick\n",
      "Eloqua\n",
      "Omniture\n",
      "Interwoven\n",
      "HowStuffWorks\n",
      "RealAge\n",
      "Match\n",
      "Xdrive\n",
      "Alexa\n",
      "Offermatica\n",
      "ioko\n",
      "MyNewPlace\n",
      "DoubleClick\n",
      "Danger\n",
      "Direct Hit\n",
      "BEA Systems\n",
      "Napster\n",
      "SafeNet\n",
      "LowerMyBills\n",
      "Various\n",
      "aQuantive\n",
      "PeopleSupport\n",
      "Wedding Channel\n",
      "iCrossing\n",
      "Responsys\n",
      "Homestead Technologies\n",
      "Phoenix Technologies\n",
      "GlobalEnglish\n",
      "Macromedia\n",
      "PGP Corporation\n",
      "Iomega\n",
      "BizRate\n",
      "MessageLabs\n",
      "Gracenote\n",
      "Razorfish\n",
      "Sonic Solutions\n",
      "Siebel Systems\n",
      "Aprimo\n",
      "Opsware\n",
      "Netscape\n",
      "Vignette\n",
      "Blue Coat Systems\n",
      "Ars Technica\n",
      "LSI\n",
      "VMware\n",
      "OpenAir\n",
      "mindSHIFT Technologies\n",
      "InsureMe\n",
      "SwapDrive\n",
      "Marvel Entertainment\n",
      "CyberCoders\n",
      "Channel Intelligence\n",
      "Q-go\n",
      "Xerox\n",
      "Speedera Networks\n",
      "eBaum's World\n",
      "Audible\n",
      "Extend Media\n",
      "The Weather Channel\n",
      "Pixar\n",
      "Equallogic\n",
      "Foundry Networks\n",
      "Zagat\n",
      "SPSS\n",
      "NetQoS\n",
      "MediaVast\n",
      "Voxeo\n",
      "EyeWonder\n",
      "VideoSurf\n",
      "Global Crossing\n",
      "Unilever\n",
      "iWeb Technologies\n",
      "Ciao\n",
      "AKQA\n",
      "Internet Brands\n",
      "Litmus Media\n",
      "3Com\n",
      "MediaVast\n",
      "Voxeo\n",
      "EyeWonder\n",
      "VideoSurf\n",
      "Global Crossing\n",
      "Unilever\n",
      "iWeb Technologies\n",
      "Ciao\n",
      "AKQA\n",
      "Internet Brands\n",
      "Litmus Media\n",
      "3Com\n",
      "MapQuest\n",
      "eGroups\n",
      "GeoCities\n",
      "AlltheWeb\n",
      "Navteq\n",
      "EachNet\n",
      "Berkeley Networks\n",
      "TARGUSinfo\n",
      "Whale Communications\n",
      "InfoInterActive\n",
      "MovieFone\n",
      "Gateway\n",
      "ICQ\n",
      "Auditude\n",
      "Centennial Communications Corp\n",
      "National Semiconductor\n",
      "QuickArrow\n",
      "SoftImage\n",
      "Sendmail\n",
      "DigitalThink\n",
      "Novell\n",
      "Air2Web\n",
      "Vocollect\n",
      "Sterling Commerce\n",
      "Transmeta\n",
      "AllRecipes\n",
      "Sybase\n",
      "Agile Software\n",
      "Orbiscom\n",
      "UGO Entertainment\n",
      "Qualcomm Atheros\n",
      "DemandTec\n",
      "Linux Networx\n",
      "NextBus\n",
      "Applied Systems\n",
      "Secure Computing\n",
      "SonicWALL\n",
      "Applimation\n",
      "Tek-Tools Software\n",
      "Kenexa\n",
      "LiveOffice\n",
      "Zeus\n",
      "RightNow Technologies\n",
      "Intermec\n",
      "Lotus Development Corporation\n",
      "Tell Me More\n",
      "AeroScout\n",
      "Omneon\n",
      "Wind River\n",
      "Voxmobili\n",
      "Guava Technologies\n",
      "Alpine Biomed\n",
      "Estech\n",
      "Axsys\n",
      "NetLogic Microsystems\n",
      "American Land Lease\n",
      "LigoCyte Pharmaceuticals\n",
      "NetThruPut\n",
      "Tundra Semiconductor\n",
      "Eveready\n",
      "Affiliated Computer Services\n",
      "Phase Forward\n",
      "Stiefel\n",
      "Amcom Software\n",
      "KAZ Group\n",
      "Hifn\n",
      "Onsite3\n",
      "Digital Forest\n",
      "Connect3 Systems\n",
      "Tidal Software\n",
      "AppStream\n",
      "Enliven Marketing Technologies\n",
      "NetManage\n",
      "Integration Associates\n",
      "Sophos\n",
      "HireRight\n",
      "Photon Dynamics\n",
      "NetCracker Technology\n",
      "NuTech Solutions\n",
      "Metrologic Instruments\n",
      "Sierra Monolithics\n",
      "Veeco Instruments\n",
      "Lightera\n",
      "NetScaler\n",
      "Catapult Communications\n",
      "Easyspace\n",
      "Iron Solutions\n",
      "Bookrags\n",
      "Aleri Global Banking\n",
      "Muniservices\n",
      "AuthenTec\n",
      "Vertafore\n",
      "Savvion\n",
      "Inventa Technologies\n",
      "Universal Microwave\n",
      "Advanced Control Components\n",
      "Contemporary Computer Services\n"
     ]
    }
   ],
   "source": [
    "n = db.companies.find({'$and': [{'founded_year': {'$lt':2000} }, {'acquisition.price_amount': {'$gt':10000000} }]}).limit(10)\n",
    "\n",
    "for i in n:\n",
    "    print(i['name'])"
   ]
  },
  {
   "cell_type": "markdown",
   "metadata": {},
   "source": [
    "### 14. All the companies that have been acquired after 2015, order by the acquisition amount, and retrieve only their `name` and `acquisiton` field."
   ]
  },
  {
   "cell_type": "code",
   "execution_count": 78,
   "metadata": {},
   "outputs": [],
   "source": [
    "o = db.companies.find({'$and': [{'acquisition.acquired_year': {'$gt':2015} }]}).sort(\"acquisition.price_amount\", -1).limit(10)\n",
    "\n",
    "for i in o:\n",
    "    print(i['name'])"
   ]
  },
  {
   "cell_type": "markdown",
   "metadata": {},
   "source": [
    "### 15. Order the companies by their `founded year`, retrieving only their `name` and `founded year`."
   ]
  },
  {
   "cell_type": "code",
   "execution_count": 79,
   "metadata": {},
   "outputs": [
    {
     "name": "stdout",
     "output_type": "stream",
     "text": [
      "Fixya 2013\n",
      "Wamba 2013\n",
      "Advaliant 2013\n",
      "Fluc 2013\n",
      "iBazar 2013\n",
      "Gimigo 2013\n",
      "SEOGroup 2013\n",
      "Clowdy 2013\n",
      "WhosCall 2013\n",
      "Pikk 2013\n"
     ]
    }
   ],
   "source": [
    "p = db.companies.find({'founded_year': {'$exists': True}}).limit(10).sort(\"founded_year\", -1).limit(10)\n",
    "\n",
    "for i in p:\n",
    "    print(i['name'], i['founded_year'])\n"
   ]
  },
  {
   "cell_type": "markdown",
   "metadata": {},
   "source": [
    "### 16. All the companies that have been founded on the first seven days of the month, including the seventh. Sort them by their `aquisition price` descendently. Limit the search to 10 documents."
   ]
  },
  {
   "cell_type": "code",
   "execution_count": 80,
   "metadata": {},
   "outputs": [
    {
     "name": "stdout",
     "output_type": "stream",
     "text": [
      "Netscape 4\n",
      "PayPal 1\n",
      "Zappos 1\n",
      "Alibaba 1\n",
      "Postini 2\n",
      "Danger 1\n",
      "Clearwell Systems 6\n",
      "PrimeSense 1\n",
      "Amobee 1\n",
      "BlueLithium 1\n"
     ]
    }
   ],
   "source": [
    "q = db.companies.find({'founded_day': {'$lte':7}}).limit(10).sort(\"acquisition.price_amount\", -1)\n",
    "\n",
    "for i in q:\n",
    "    print(i['name'], i['founded_day'])"
   ]
  },
  {
   "cell_type": "markdown",
   "metadata": {},
   "source": [
    "### 17. All the companies on the 'web' `category` that have more than 4000 employees. Sort them by the amount of employees in ascendant order."
   ]
  },
  {
   "cell_type": "code",
   "execution_count": 82,
   "metadata": {},
   "outputs": [
    {
     "name": "stdout",
     "output_type": "stream",
     "text": [
      "Expedia\n",
      "AOL\n",
      "Webkinz\n",
      "Rakuten\n",
      "Los Angeles Times Media Group\n",
      "Groupon\n",
      "Yahoo!\n",
      "eBay\n",
      "Experian\n"
     ]
    }
   ],
   "source": [
    "r = db.companies.find({'$and': [{'category_code':'web'}, {'number_of_employees': {'$gt':4000}}]}).limit(10).sort(\"number_of_employees\")\n",
    "\n",
    "for i in r:\n",
    "    print(i['name'])\n"
   ]
  },
  {
   "cell_type": "markdown",
   "metadata": {},
   "source": [
    "### 18. All the companies which their acquisition amount is more than 10.000.000, and currency are 'EUR'.\n"
   ]
  },
  {
   "cell_type": "code",
   "execution_count": 83,
   "metadata": {},
   "outputs": [
    {
     "name": "stdout",
     "output_type": "stream",
     "text": [
      "ZYB\n",
      "Apertio\n",
      "Greenfield Online\n",
      "Webedia\n",
      "Wayfinder\n",
      "Tuenti Technologies\n",
      "BioMed Central\n"
     ]
    }
   ],
   "source": [
    "s = db.companies.find({'$and': [{'acquisition.price_currency_code':'EUR'}, {'acquisition.price_amount': {'$gt':10000000}}]}).limit(10)\n",
    "\n",
    "for i in s:\n",
    "    print(i['name'])\n",
    "\n"
   ]
  },
  {
   "cell_type": "markdown",
   "metadata": {},
   "source": [
    "### 19. All the companies that have been acquired on the first trimester of the year. Limit the search to 10 companies, and retrieve only their `name` and `acquisition` fields."
   ]
  },
  {
   "cell_type": "code",
   "execution_count": 60,
   "metadata": {},
   "outputs": [
    {
     "name": "stdout",
     "output_type": "stream",
     "text": [
      "Kyte {'price_amount': None, 'price_currency_code': 'USD', 'term_code': None, 'source_url': 'http://techcrunch.com/2011/01/31/exclusive-kit-digital-acquires-kickapps-kewego-and-kyte-for-77-2-million/', 'source_description': 'KIT digital Acquires KickApps, Kewego AND Kyte For $77.2 Million', 'acquired_year': 2011, 'acquired_month': 1, 'acquired_day': 31, 'acquiring_company': {'name': 'KIT digital', 'permalink': 'kit-digital'}}\n",
      "NetRatings {'price_amount': 327000000, 'price_currency_code': 'USD', 'term_code': 'cash', 'source_url': 'http://login.vnuemedia.com/hr/login/login_subscribe.jsp?id=0oqDem1gYIfIclz9i2%2Ffqj5NxCp2AC5DPbVnyT2da8GyV2mXjasabE128n69OrmcAh52%2FGE3pSG%2F%0AEKRYD9vh9EhrJrxukmUzh532fSMTZXL42gwPB80UWVtF1NwJ5UZSM%2BCkLU1mpYBoHFgiH%2Fi0f6Ax%0A9yMIVxt47t%2BHamhEQ0nkOEK24L', 'source_description': 'Nielsen buys rest of NetRatings', 'acquired_year': 2007, 'acquired_month': 2, 'acquired_day': None, 'acquiring_company': {'name': 'Nielsen', 'permalink': 'nielsen'}}\n",
      "blogTV {'price_amount': None, 'price_currency_code': 'USD', 'term_code': None, 'source_url': 'http://techcrunch.com/2013/03/13/younow-buys-blogtv/', 'source_description': 'Live Social Video Network YouNow Acquires Streaming Service BlogTV', 'acquired_year': 2013, 'acquired_month': 3, 'acquired_day': 13, 'acquiring_company': {'name': 'YouNow', 'permalink': 'younow'}}\n",
      "Livestream {'price_amount': None, 'price_currency_code': 'USD', 'term_code': 'cash_and_stock', 'source_url': '', 'source_description': 'company', 'acquired_year': 2008, 'acquired_month': 1, 'acquired_day': 1, 'acquiring_company': {'name': 'Adviqo', 'permalink': 'adviqo'}}\n",
      "iContact {'price_amount': 169000000, 'price_currency_code': 'USD', 'term_code': 'cash_and_stock', 'source_url': 'http://techcrunch.com/2012/02/28/vocus-buys-email-marketing-company-icontact-for-169-million/', 'source_description': 'Vocus Buys Email Marketing Company iContact For $169 Million', 'acquired_year': 2012, 'acquired_month': 2, 'acquired_day': 28, 'acquiring_company': {'name': 'Vocus', 'permalink': 'vocus'}}\n",
      "Coghead {'price_amount': None, 'price_currency_code': 'USD', 'term_code': None, 'source_url': 'http://www.techcrunch.com/2009/02/19/sap-acquires-cogheads-technology-as-it-looks-towards-the-cloud/', 'source_description': 'SAP Acquires Cogheadâ€™s Technology As It Looks Towards The Cloud', 'acquired_year': 2009, 'acquired_month': 2, 'acquired_day': 19, 'acquiring_company': {'name': 'SAP', 'permalink': 'sap'}}\n",
      "Dailymotion {'price_amount': 168000000, 'price_currency_code': 'USD', 'term_code': None, 'source_url': 'http://techcrunch.com/2013/02/22/orange-acquired-dailymotion-for-168-million-by-buying-out-the-remaining-51-stake/', 'source_description': 'Orange Acquired Dailymotion For $168 Million By Buying Out Remaining 51% Stake [Update: Orange Confirms]', 'acquired_year': 2013, 'acquired_month': 2, 'acquired_day': 22, 'acquiring_company': {'name': 'Orange', 'permalink': 'orange'}}\n",
      "BabyCenter {'price_amount': None, 'price_currency_code': 'USD', 'term_code': None, 'source_url': 'http://www.investor.jnj.com/releasedetail.cfm?releaseid=63836', 'source_description': 'Johnson & Johnson Acquires BabyCenter From eToys, Inc. Leading Online Destination for Parents Plans for Continued Expansion of Operations', 'acquired_year': 2001, 'acquired_month': 3, 'acquired_day': 2, 'acquiring_company': {'name': 'Johnson & Johnson', 'permalink': 'johnson-johnson'}}\n",
      "Flickr {'price_amount': None, 'price_currency_code': 'USD', 'term_code': 'cash_and_stock', 'source_url': 'http://news.cnet.com/Yahoo-buys-photo-sharing-site-Flickr/2100-1038_3-5627640.html?tag=mncol;txt', 'source_description': 'CNET', 'acquired_year': 2005, 'acquired_month': 3, 'acquired_day': None, 'acquiring_company': {'name': 'Yahoo!', 'permalink': 'yahoo'}}\n",
      "Netvibes {'price_amount': None, 'price_currency_code': 'USD', 'term_code': None, 'source_url': 'http://www.marketwatch.com/story/dassault-systemes-acquires-netvibes-2012-02-09', 'source_description': 'Dassault Systemes Acquires Netvibes', 'acquired_year': 2012, 'acquired_month': 2, 'acquired_day': 9, 'acquiring_company': {'name': 'Dassault Systemes', 'permalink': 'dassault'}}\n"
     ]
    }
   ],
   "source": [
    "t = db.companies.find({'$and': [{'acquisition.acquired_month': {'$lte':3}}, {'acquisition': {'$exists': True}}]}).limit(10)\n",
    "\n",
    "for i in t:\n",
    "    print(i['name'], i['acquisition'])\n"
   ]
  },
  {
   "cell_type": "markdown",
   "metadata": {},
   "source": [
    "### 20. All the companies that have been founded between 2000 and 2010, but have not been acquired before 2011."
   ]
  },
  {
   "cell_type": "code",
   "execution_count": 65,
   "metadata": {},
   "outputs": [
    {
     "name": "stdout",
     "output_type": "stream",
     "text": [
      "Wetpaint\n",
      "Digg\n",
      "Geni\n",
      "blogTV\n",
      "Revision3\n",
      "iContact\n",
      "Mashery\n",
      "Dailymotion\n",
      "KickApps\n",
      "Netvibes\n",
      "adBrite\n",
      "Meebo\n",
      "Seesmic\n",
      "Oodle\n",
      "Indeed\n",
      "Grockit\n",
      "Zenfolio\n",
      "Wishpot\n",
      "Retrevo\n",
      "SelectMinds\n",
      "TokBox\n",
      "Docstoc\n",
      "sezmi\n",
      "LocaModa\n",
      "OMGPOP\n",
      "Daylife\n",
      "Behance\n",
      "Attributor\n",
      "Viewdle\n",
      "Clickable\n",
      "Xobni\n",
      "Sermo\n",
      "Worklight\n",
      "Zimbra\n",
      "earthmine\n",
      "CondoDomain\n",
      "Whiskey Media\n",
      "Uptake\n",
      "The Climate Corporation\n",
      "AdReady\n",
      "Tumblr\n",
      "Rollbase\n",
      "JackBe\n",
      "Marakana\n",
      "Vitrue\n",
      "Peer39\n",
      "Loopt\n",
      "Mogreet\n",
      "UpNext\n",
      "TrustedID\n",
      "SocialPicks\n",
      "Shipwire\n",
      "Goodreads\n",
      "KAYAK\n",
      "Meraki\n",
      "Jobfox\n",
      "Livemocha\n",
      "Outspark\n",
      "SuccessFactors\n",
      "Amobee\n",
      "Taptu\n",
      "BreakingPoint Systems\n",
      "Qype\n",
      "MOG\n",
      "SnapNames\n",
      "Paprika Lab\n",
      "Camlink\n",
      "Particle\n",
      "PacketFront\n",
      "Star Analytics\n",
      "Replay Solutions\n",
      "SignalDemand\n",
      "Planypus\n",
      "Snipshot\n",
      "OrangeSoda\n",
      "Trendrr\n",
      "Weplay\n",
      "Vivity Labs\n",
      "MediaWhiz\n",
      "mediaFORGE\n",
      "Trunkt\n",
      "Compfight\n",
      "Salesconx\n",
      "Collective Intellect\n",
      "EQAL\n",
      "LOVEFiLM\n",
      "TeachStreet\n",
      "Mollom\n",
      "Android\n",
      "Syncplicity\n",
      "PrimeSense\n",
      "FuGen Solutions\n",
      "ClairMail\n",
      "CitizenHawk\n",
      "Tupalo\n",
      "Acquity Group\n",
      "Handmark\n",
      "BelAir Networks\n",
      "Pivot\n",
      "Sense Networks\n",
      "Wilogo\n",
      "Bestofmedia Group\n",
      "Boxee\n",
      "Instinctiv\n",
      "Posterous\n",
      "National Transcript Center\n",
      "Praxis Language\n",
      "Saffron Digital\n",
      "Involver\n",
      "Truviso\n",
      "ADCentricity\n",
      "Leafish\n",
      "Napera Networks\n",
      "Buysight\n",
      "RentMineOnline\n",
      "InstallFree\n",
      "Likewise Software\n",
      "ZManda\n",
      "bTendo\n",
      "Synchronica\n",
      "Axis\n",
      "ReTel Technologies\n",
      "PPTV\n",
      "Jumptap\n",
      "Producteev\n",
      "GoodGuide\n",
      "Yammer\n",
      "Intela\n",
      "AUPEO!\n",
      "InstallFree\n",
      "Likewise Software\n",
      "bTendo\n",
      "ZManda\n",
      "Synchronica\n",
      "Axis\n",
      "ReTel Technologies\n",
      "PPTV\n",
      "Jumptap\n",
      "Producteev\n",
      "GoodGuide\n",
      "Yammer\n",
      "Intela\n",
      "AUPEO!\n",
      "LogLogic\n",
      "CoreTrace\n",
      "Twittertise\n",
      "Wiggio\n",
      "Avaak\n",
      "Kiva Systems\n",
      "ExactTarget\n",
      "CarZen\n",
      "Globrix\n",
      "Games2Win\n",
      "Trusteer\n",
      "Citizenside\n",
      "Clearwire\n",
      "Ascribe\n",
      "Imagine Communications\n",
      "HyperWeek\n",
      "Webedia\n",
      "expressor software\n",
      "mFoundry\n",
      "Pardot\n",
      "3X Systems\n",
      "Circle of Moms\n",
      "Rainbow Partners\n",
      "Quantivo\n",
      "Silver Tail Systems\n",
      "Arc90\n",
      "Rhythm NewMedia\n",
      "GoGo Lingo\n",
      "SenSage\n",
      "Oberon Media\n",
      "Virident Systems\n",
      "Better Place\n",
      "Crossbeam Systems\n",
      "Mu Dynamics\n",
      "Multigig\n",
      "Sensory Networks\n",
      "ID Analytics\n",
      "Socialbomb\n",
      "CureTogether\n",
      "Demotix\n",
      "NorthStar Systems International\n",
      "ParAccel\n",
      "Vocalocity\n",
      "PhoneFactor\n",
      "BroadLight\n",
      "Liquid Air Lab\n",
      "Open Kernel Labs\n",
      "Crossing Automation\n",
      "DesignArt Networks\n",
      "HYFN\n",
      "Neuralitic Systems\n",
      "Nexsan\n",
      "Echopass Corporation\n",
      "TRAFFIQ\n",
      "Virtual Computer\n",
      "Xelerated\n",
      "Audiolife\n",
      "VirtuOz\n",
      "Shutl\n",
      "Neverblue\n",
      "Socialize\n",
      "Oversi\n",
      "ScienceOps\n",
      "TopCoder\n",
      "Strangeloop Networks\n",
      "Outright\n",
      "Sourcefire\n",
      "Enclarity\n",
      "Mendeley\n",
      "Tynt\n",
      "Pixmac\n",
      "Zenprise\n",
      "Kiala\n",
      "picoChip\n",
      "Republic Project\n",
      "Tamarac\n",
      "Preview Networks\n",
      "iPropertyWebsites\n",
      "CheapCheapCheap\n",
      "Joobili\n",
      "EnergyHub\n",
      "avVenta\n",
      "IMASTE\n",
      "Solera Networks\n",
      "N-able Technologies\n",
      "Zencoder\n",
      "Instapaper\n",
      "Infochimps\n",
      "GigLocator\n",
      "Wefollow\n",
      "Fotomoto\n",
      "Vital Networks\n",
      "Arieso\n",
      "Playfire\n",
      "Miyowa\n",
      "1000 Markets\n",
      "TxVia\n",
      "gdgt\n",
      "Rhythmia Medical\n",
      "CardStar\n",
      "Topsy Labs\n",
      "Zipcar\n",
      "Hara\n",
      "Blip\n",
      "Pasteuria Bioscience\n",
      "Social Shore\n",
      "Certify Data Systems\n",
      "Pixable\n",
      "Semprus BioSciences\n",
      "Xsigo\n",
      "Aragon Pharmaceuticals\n",
      "FastSoft\n",
      "oneDrum\n",
      "tarpipe\n",
      "Makani Power\n",
      "Peekspy\n",
      "Enpirion\n",
      "Pearl Therapeutics\n",
      "Aveksa\n",
      "Layer 7 Technologies\n",
      "Clean Mobile\n",
      "StreamBase Systems\n",
      "SoftLayer\n",
      "Moonfruit\n",
      "Liquavista\n",
      "Aspera\n",
      "Everyday Solutions\n",
      "Bump Technologies\n",
      "ALOT\n",
      "OptiMedica\n",
      "Luminus Devices\n"
     ]
    }
   ],
   "source": [
    "u = db.companies.find({'$and': [{'founded_year': {'$gte':2000} }, {'founded_year': {'$lte':2010} }, {'acquisition.acquired_year': {'$gt':2011} }]}).limit(10) \n",
    "\n",
    "for i in u:\n",
    "    print(i['name'])\n"
   ]
  },
  {
   "cell_type": "code",
   "execution_count": null,
   "metadata": {},
   "outputs": [],
   "source": []
  }
 ],
 "metadata": {
  "kernelspec": {
   "display_name": "Python 3",
   "language": "python",
   "name": "python3"
  },
  "language_info": {
   "codemirror_mode": {
    "name": "ipython",
    "version": 3
   },
   "file_extension": ".py",
   "mimetype": "text/x-python",
   "name": "python",
   "nbconvert_exporter": "python",
   "pygments_lexer": "ipython3",
   "version": "3.7.3"
  }
 },
 "nbformat": 4,
 "nbformat_minor": 2
}
