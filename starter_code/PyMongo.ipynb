{
 "cells": [
  {
   "cell_type": "markdown",
   "metadata": {},
   "source": [
    "## lab-advance-querying-mongo"
   ]
  },
  {
   "cell_type": "markdown",
   "metadata": {},
   "source": [
    "EQUIVALENTS IN MONGODB\n",
    "\n",
    "cursor_name = \n",
    "    query: db.companies.find(query_name)\n",
    "    sort: .sort(\"number_of_employees\",pymongo.ASCENDING)\n",
    "    limit: .limit(int)\n",
    "    projection: print\n",
    "    # check it is working = print(list(cursor_name)).head(1)\n"
   ]
  },
  {
   "cell_type": "code",
   "execution_count": 1,
   "metadata": {},
   "outputs": [],
   "source": [
    "import pymongo\n",
    "MongoClient = pymongo.MongoClient\n",
    "\n",
    "import time\n",
    "client = MongoClient()\n",
    "db = client.companies"
   ]
  },
  {
   "cell_type": "code",
   "execution_count": 3,
   "metadata": {},
   "outputs": [],
   "source": [
    "query = {\"name\": \"Babelgum\" }\n",
    "cursor = db.companies.find(query)\n",
    "#print(list(cursor)).head(1)"
   ]
  },
  {
   "cell_type": "code",
   "execution_count": 4,
   "metadata": {},
   "outputs": [],
   "source": [
    "query2 = {\"number_of_employees\":{\"$gte\":500}}\n",
    "cursor2 = db.companies.find(query2).sort(\"number_of_employees\",pymongo.ASCENDING).limit(20)\n",
    "#print(list(cursor2)).head(1)"
   ]
  },
  {
   "cell_type": "code",
   "execution_count": 23,
   "metadata": {},
   "outputs": [],
   "source": [
    "query3 = { \"$and\": [ { \"founded_year\":{\"$gte\":2000} }, { \"founded_year\":{\"$lte\":2005} } ] }\n",
    "cursor3 = db.companies.find(query3)\n",
    "#print(list(map(lambda fnd: [fnd[\"name\"],fnd[\"founded_year\"]],cursor3)))"
   ]
  },
  {
   "cell_type": "code",
   "execution_count": 6,
   "metadata": {},
   "outputs": [],
   "source": [
    "query4 = { \"$and\": [ { \"ipo.valuation_amount\":{\"$gt\":100000000} }, { \"founded_year\":{\"$lt\":2010} } ] }\n",
    "cursor4 = db.companies.find(query4)\n",
    "#print(list(map(lambda r: [r[\"name\"],r[\"ipo\"]],cursor4)))\n"
   ]
  },
  {
   "cell_type": "code",
   "execution_count": 7,
   "metadata": {},
   "outputs": [],
   "source": [
    "query5 = { \"$and\": [ { \"number_of_employees\":{\"$lt\":1000} }, { \"founded_year\":{\"$lt\":2005} } ] }\n",
    "cursor5 = db.companies.find(query5).sort([(\"number_of_employees\",1)]).limit(10)\n",
    "#print(list(cursor5)).head(1)"
   ]
  }
 ],
 "metadata": {
  "kernelspec": {
   "display_name": "Python 3",
   "language": "python",
   "name": "python3"
  },
  "language_info": {
   "codemirror_mode": {
    "name": "ipython",
    "version": 3
   },
   "file_extension": ".py",
   "mimetype": "text/x-python",
   "name": "python",
   "nbconvert_exporter": "python",
   "pygments_lexer": "ipython3",
   "version": "3.7.2"
  }
 },
 "nbformat": 4,
 "nbformat_minor": 2
}
