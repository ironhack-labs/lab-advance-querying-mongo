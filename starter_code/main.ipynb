{
 "cells": [
  {
   "cell_type": "code",
   "execution_count": 3,
   "metadata": {},
   "outputs": [],
   "source": [
    "import pymongo\n",
    "from pymongo import MongoClient"
   ]
  },
  {
   "cell_type": "code",
   "execution_count": 12,
   "metadata": {},
   "outputs": [
    {
     "data": {
      "text/plain": [
       "Database(MongoClient(host=['localhost:27017'], document_class=dict, tz_aware=False, connect=True), 'companies')"
      ]
     },
     "execution_count": 12,
     "metadata": {},
     "output_type": "execute_result"
    }
   ],
   "source": [
    "client = MongoClient()\n",
    "data = client.companies"
   ]
  },
  {
   "cell_type": "code",
   "execution_count": 28,
   "metadata": {},
   "outputs": [
    {
     "data": {
      "text/plain": [
       "[{'_id': ObjectId('52cdef7c4bab8bd675297da0'), 'name': 'Babelgum'}]"
      ]
     },
     "execution_count": 28,
     "metadata": {},
     "output_type": "execute_result"
    }
   ],
   "source": [
    "# 1. All the companies that it's name match 'Babelgum'. Retrieve only their `name` field.\n",
    "list(data.companies.find({\"name\":\"Babelgum\"},{\"name\": 1}))"
   ]
  },
  {
   "cell_type": "code",
   "execution_count": 29,
   "metadata": {},
   "outputs": [
    {
     "data": {
      "text/plain": [
       "[{'_id': ObjectId('52cdef7c4bab8bd675297d8e'), 'name': 'Facebook'},\n",
       " {'_id': ObjectId('52cdef7c4bab8bd675297d9b'), 'name': 'eBay'},\n",
       " {'_id': ObjectId('52cdef7c4bab8bd675297da2'), 'name': 'Cisco'},\n",
       " {'_id': ObjectId('52cdef7c4bab8bd675297da3'), 'name': 'Yahoo!'},\n",
       " {'_id': ObjectId('52cdef7c4bab8bd675297dc4'), 'name': 'Intel'}]"
      ]
     },
     "execution_count": 29,
     "metadata": {},
     "output_type": "execute_result"
    }
   ],
   "source": [
    "### 2. All the companies that have more than 5000 employees. \n",
    "#Limit the search to 20 companies and sort them by **number of employees**.\n",
    "list(data.companies.find({\"number_of_employees\": { \"$gt\": 5000 }},{\"name\": 1}))[:5] #[:5] for previewing results"
   ]
  },
  {
   "cell_type": "code",
   "execution_count": 51,
   "metadata": {},
   "outputs": [
    {
     "data": {
      "text/plain": [
       "[{'_id': ObjectId('52cdef7c4bab8bd675297d8a'),\n",
       "  'name': 'Wetpaint',\n",
       "  'founded_year': 2005},\n",
       " {'_id': ObjectId('52cdef7c4bab8bd675297d8c'),\n",
       "  'name': 'Zoho',\n",
       "  'founded_year': 2005},\n",
       " {'_id': ObjectId('52cdef7c4bab8bd675297d8f'),\n",
       "  'name': 'Omnidrive',\n",
       "  'founded_year': 2005}]"
      ]
     },
     "execution_count": 51,
     "metadata": {},
     "output_type": "execute_result"
    }
   ],
   "source": [
    "### 3. All the companies founded between 2000 and 2005, both years included. \n",
    "#Retrieve only the `name` and `founded_year` fileds.\n",
    "list(data.companies.find({\"$and\": [{\"founded_year\": {\"$gte\": 2005}}, {\"founded_year\":{\"$lte\": 2010}}]},\n",
    "                         {\"name\":1, \"founded_year\":1}))[:3] #[:3] for previewing results\n",
    "\n",
    "\n"
   ]
  },
  {
   "cell_type": "code",
   "execution_count": 55,
   "metadata": {},
   "outputs": [
    {
     "data": {
      "text/plain": [
       "[{'_id': ObjectId('52cdef7c4bab8bd675297d94'),\n",
       "  'name': 'Twitter',\n",
       "  'ipo': {'valuation_amount': 18100000000,\n",
       "   'valuation_currency_code': 'USD',\n",
       "   'pub_year': 2013,\n",
       "   'pub_month': 11,\n",
       "   'pub_day': 7,\n",
       "   'stock_symbol': 'NYSE:TWTR'}},\n",
       " {'_id': ObjectId('52cdef7c4bab8bd675297d8e'),\n",
       "  'name': 'Facebook',\n",
       "  'ipo': {'valuation_amount': 104000000000,\n",
       "   'valuation_currency_code': 'USD',\n",
       "   'pub_year': 2012,\n",
       "   'pub_month': 5,\n",
       "   'pub_day': 18,\n",
       "   'stock_symbol': 'NASDAQ:FB'}}]"
      ]
     },
     "execution_count": 55,
     "metadata": {},
     "output_type": "execute_result"
    }
   ],
   "source": [
    "### 4. All the companies that had a Valuation Amount of more than 100.000.000 \n",
    "#and have been founded before 2010. Retrieve only the `name` and `ipo` fields.\n",
    "\n",
    "list(data.companies.find({\"$and\": [{\"founded_year\": {\"$lt\":2010}}, {\"ipo.valuation_amount\":{\"$gt\":100000000}}]}, \n",
    "                    {\"name\":1, \"ipo\":1}))[:2] #[:2] for previewing results"
   ]
  },
  {
   "cell_type": "code",
   "execution_count": 59,
   "metadata": {},
   "outputs": [
    {
     "data": {
      "text/plain": [
       "[{'_id': ObjectId('52cdef7c4bab8bd675297d8b'), 'number_of_employees': 600},\n",
       " {'_id': ObjectId('52cdef7c4bab8bd675297d8d'), 'number_of_employees': 60},\n",
       " {'_id': ObjectId('52cdef7c4bab8bd675297d93'), 'number_of_employees': 0},\n",
       " {'_id': ObjectId('52cdef7c4bab8bd675297da1'), 'number_of_employees': 50},\n",
       " {'_id': ObjectId('52cdef7c4bab8bd675297da5'), 'number_of_employees': 35},\n",
       " {'_id': ObjectId('52cdef7c4bab8bd675297da7'), 'number_of_employees': 120},\n",
       " {'_id': ObjectId('52cdef7c4bab8bd675297db8'), 'number_of_employees': 62},\n",
       " {'_id': ObjectId('52cdef7c4bab8bd675297db2'), 'number_of_employees': 75},\n",
       " {'_id': ObjectId('52cdef7c4bab8bd675297dbc'), 'number_of_employees': 0},\n",
       " {'_id': ObjectId('52cdef7c4bab8bd675297dc3'), 'number_of_employees': 23}]"
      ]
     },
     "execution_count": 59,
     "metadata": {},
     "output_type": "execute_result"
    }
   ],
   "source": [
    "### 5. All the companies that have less than 1000 employees and have been founded before 2005. \n",
    "# Order them by the number of employees and limit the search to 10 companies.\n",
    "\n",
    "list(data.companies.find({\"$and\": [{\"founded_year\": {\"$lt\":2005}}, {\"number_of_employees\": {\"$lt\": 1000 }}]},\n",
    "                         {\"number_of_employees\": -1}).limit(10))\n"
   ]
  },
  {
   "cell_type": "code",
   "execution_count": null,
   "metadata": {},
   "outputs": [],
   "source": []
  }
 ],
 "metadata": {
  "kernelspec": {
   "display_name": "Python 3",
   "language": "python",
   "name": "python3"
  },
  "language_info": {
   "codemirror_mode": {
    "name": "ipython",
    "version": 3
   },
   "file_extension": ".py",
   "mimetype": "text/x-python",
   "name": "python",
   "nbconvert_exporter": "python",
   "pygments_lexer": "ipython3",
   "version": "3.7.2"
  }
 },
 "nbformat": 4,
 "nbformat_minor": 2
}
